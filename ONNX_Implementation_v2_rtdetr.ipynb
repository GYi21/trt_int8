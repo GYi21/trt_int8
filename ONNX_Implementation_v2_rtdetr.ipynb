{
 "cells": [
  {
   "cell_type": "markdown",
   "metadata": {},
   "source": [
    "RT-DETR --> ONNX"
   ]
  },
  {
   "cell_type": "code",
   "execution_count": 1,
   "metadata": {},
   "outputs": [
    {
     "name": "stderr",
     "output_type": "stream",
     "text": [
      "/tmp/ipykernel_359481/95100617.py:16: FutureWarning: You are using `torch.load` with `weights_only=False` (the current default value), which uses the default pickle module implicitly. It is possible to construct malicious pickle data which will execute arbitrary code during unpickling (See https://github.com/pytorch/pytorch/blob/main/SECURITY.md#untrusted-models for more details). In a future release, the default value for `weights_only` will be flipped to `True`. This limits the functions that could be executed during unpickling. Arbitrary objects will no longer be allowed to be loaded via this mode unless they are explicitly allowlisted by the user via `torch.serialization.add_safe_globals`. We recommend you start setting `weights_only=True` for any use case where you don't have full control of the loaded file. Please open an issue on GitHub for any issues related to this experimental feature.\n",
      "  checkpoint = torch.load(pth_path, map_location=\"cpu\")\n"
     ]
    },
    {
     "name": "stdout",
     "output_type": "stream",
     "text": [
      "Load PResNet50 state_dict\n"
     ]
    },
    {
     "name": "stderr",
     "output_type": "stream",
     "text": [
      "/home/guoy/led_detection/training/RT-DETR/rtdetrv2_pytorch/src/zoo/rtdetr/rtdetrv2_decoder.py:141: TracerWarning: Converting a tensor to a Python boolean might cause the trace to be incorrect. We can't record the data flow of Python values, so this value will be treated as a constant in the future. This means that the trace might not generalize to other inputs!\n",
      "  if reference_points.shape[-1] == 2:\n",
      "/home/guoy/led_detection/training/RT-DETR/rtdetrv2_pytorch/src/zoo/rtdetr/rtdetrv2_decoder.py:145: TracerWarning: Converting a tensor to a Python boolean might cause the trace to be incorrect. We can't record the data flow of Python values, so this value will be treated as a constant in the future. This means that the trace might not generalize to other inputs!\n",
      "  elif reference_points.shape[-1] == 4:\n"
     ]
    },
    {
     "name": "stdout",
     "output_type": "stream",
     "text": [
      "✅ ONNX 模型已成功导出至: /home/guoy/led_detection/training/RT-DETR/model_v1.onnx\n"
     ]
    }
   ],
   "source": [
    "import torch\n",
    "import torch.nn as nn\n",
    "import torchvision\n",
    "import onnx\n",
    "import onnxruntime as ort\n",
    "import numpy as np\n",
    "from rtdetrv2_pytorch.src.core import YAMLConfig\n",
    "\n",
    "# **路径配置**\n",
    "config_path = \"/home/guoy/led_detection/training/RT-DETR/rtdetrv2_pytorch/configs/rtdetrv2/rtdetrv2_r50vd_m_7x_coco.yml\"\n",
    "pth_path = \"/home/guoy/led_detection/training/RT-DETR/output/rtdetrv2_r50vd_m_7x_coco_final/best.pth\"\n",
    "onnx_path = \"/home/guoy/led_detection/training/RT-DETR/model_v1.onnx\"\n",
    "\n",
    "# **加载 PTH 模型**\n",
    "cfg = YAMLConfig(config_path, resume=pth_path)\n",
    "checkpoint = torch.load(pth_path, map_location=\"cpu\")\n",
    "state_dict = checkpoint.get(\"ema\", checkpoint.get(\"model\"))[\"module\"]\n",
    "cfg.model.load_state_dict(state_dict)\n",
    "\n",
    "class ONNXModel(nn.Module):\n",
    "    \"\"\"ONNX 兼容的 RT-DETR，包含后处理\"\"\"\n",
    "    def __init__(self, model, postprocessor):\n",
    "        super().__init__()\n",
    "        self.model = model.deploy()\n",
    "        self.postprocessor = postprocessor.deploy()\n",
    "        \n",
    "    def forward(self, images):\n",
    "        outputs = self.model(images)\n",
    "        logits, boxes = outputs[\"pred_logits\"], outputs[\"pred_boxes\"]\n",
    "\n",
    "        # **🔥 确保置信度正确**\n",
    "        scores = torch.sigmoid(logits)\n",
    "\n",
    "        # **🔥 确保坐标转换正确**\n",
    "        boxes = torchvision.ops.box_convert(boxes, in_fmt='cxcywh', out_fmt='xyxy')\n",
    "\n",
    "        # **🔥 获取类别标签**\n",
    "        labels = torch.argmax(logits, dim=-1)  # 获取最高分的类别索引\n",
    "\n",
    "        return scores, boxes, labels\n",
    "\n",
    "# **构建 ONNX 兼容模型**\n",
    "onnx_model = ONNXModel(cfg.model, cfg.postprocessor)\n",
    "onnx_model.eval()\n",
    "\n",
    "# **导出 ONNX**\n",
    "dummy_input = torch.randn(1, 3, 640, 640)\n",
    "\n",
    "torch.onnx.export(\n",
    "    onnx_model,\n",
    "    (dummy_input,),\n",
    "    onnx_path,\n",
    "    input_names=['images'],\n",
    "    output_names=['scores', 'boxes', 'labels'],\n",
    "    opset_version=16,\n",
    "    dynamic_axes={'images': {0: 'batch_size'}},\n",
    "    do_constant_folding=True,\n",
    ")\n",
    "print(f\"✅ ONNX 模型已成功导出至: {onnx_path}\")\n"
   ]
  }
 ],
 "metadata": {
  "kernelspec": {
   "display_name": "Python 3",
   "language": "python",
   "name": "python3"
  },
  "language_info": {
   "codemirror_mode": {
    "name": "ipython",
    "version": 3
   },
   "file_extension": ".py",
   "mimetype": "text/x-python",
   "name": "python",
   "nbconvert_exporter": "python",
   "pygments_lexer": "ipython3",
   "version": "3.8.20"
  }
 },
 "nbformat": 4,
 "nbformat_minor": 2
}
